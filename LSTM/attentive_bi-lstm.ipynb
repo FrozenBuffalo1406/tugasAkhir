{
 "cells": [
  {
   "cell_type": "code",
   "execution_count": 1,
   "id": "703a3592",
   "metadata": {},
   "outputs": [],
   "source": [
    "import numpy as np\n",
    "import tensorflow as tf\n",
    "import matplotlib.pyplot as plt\n",
    "from sklearn.model_selection import train_test_split\n",
    "from keras.utils import to_categorical\n",
    "from keras import layers, models, callbacks\n"
   ]
  },
  {
   "cell_type": "code",
   "execution_count": 2,
   "id": "b76aa3d7",
   "metadata": {},
   "outputs": [],
   "source": [
    "# Muat dataset\n",
    "X = np.load('all_beat_segments.npy')\n",
    "y = np.load('all_beat_labels_encoded.npy')"
   ]
  },
  {
   "cell_type": "code",
   "execution_count": 3,
   "id": "39c2f56f",
   "metadata": {},
   "outputs": [
    {
     "name": "stdout",
     "output_type": "stream",
     "text": [
      "X shape: (109459, 89)\n",
      "y shape: (109459,)\n"
     ]
    }
   ],
   "source": [
    "# Pastikan ukuran dataset\n",
    "print(\"X shape:\", X.shape)\n",
    "print(\"y shape:\", y.shape)"
   ]
  },
  {
   "cell_type": "code",
   "execution_count": 4,
   "id": "bba9e124",
   "metadata": {},
   "outputs": [],
   "source": [
    "# Split dataset: 80% train, 20% test\n",
    "X_train, X_test, y_train, y_test = train_test_split(X, y, test_size=0.2, random_state=42, stratify=y)\n"
   ]
  },
  {
   "cell_type": "code",
   "execution_count": 5,
   "id": "1e8d7f3b",
   "metadata": {},
   "outputs": [],
   "source": [
    "# Reshape untuk model Bi-LSTM (batch_size, time_steps, features)\n",
    "X_train = X_train.reshape(-1, X_train.shape[1], 1)\n",
    "X_test = X_test.reshape(-1, X_test.shape[1], 1)\n"
   ]
  },
  {
   "cell_type": "code",
   "execution_count": 6,
   "id": "c5715627",
   "metadata": {},
   "outputs": [],
   "source": [
    "# Encode label ke one-hot\n",
    "y_train_cat = to_categorical(y_train)\n",
    "y_test_cat = to_categorical(y_test)"
   ]
  },
  {
   "cell_type": "code",
   "execution_count": 7,
   "id": "9b512c9b",
   "metadata": {},
   "outputs": [],
   "source": [
    "# Definisi Attention Layer\n",
    "class AttentionLayer(layers.Layer):\n",
    "    def __init__(self, **kwargs):\n",
    "        super(AttentionLayer, self).__init__(**kwargs)\n",
    "\n",
    "    def build(self, input_shape):\n",
    "        self.W = self.add_weight(\n",
    "            name=\"att_weight\",\n",
    "            shape=(input_shape[-1], 1),\n",
    "            initializer='glorot_uniform',\n",
    "            trainable=True\n",
    "        )\n",
    "        self.b = self.add_weight(\n",
    "            name=\"att_bias\",\n",
    "            shape=(input_shape[1], 1),\n",
    "            initializer='zeros',\n",
    "            trainable=True\n",
    "        )\n",
    "        super(AttentionLayer, self).build(input_shape)\n",
    "\n",
    "    def call(self, x):\n",
    "        et = tf.matmul(x, self.W) + self.b  # Shape: (batch_size, time_steps, 1)\n",
    "        et = tf.squeeze(et, axis=-1)       # Shape: (batch_size, time_steps)\n",
    "        at = tf.nn.softmax(et)            # Softmax over time steps\n",
    "        at = tf.expand_dims(at, axis=-1)  # Shape: (batch_size, time_steps, 1)\n",
    "        output = x * at                    # Weighted input\n",
    "        output = tf.reduce_sum(output, axis=1)  # Shape: (batch_size, features)\n",
    "        return output\n",
    "\n",
    "    def get_config(self):\n",
    "        return super(AttentionLayer, self).get_config()\n"
   ]
  },
  {
   "cell_type": "code",
   "execution_count": 8,
   "id": "a0564462",
   "metadata": {},
   "outputs": [],
   "source": [
    "# Arsitektur Model\n",
    "def build_attentive_bilstm(input_shape, num_classes):\n",
    "    inputs = layers.Input(shape=input_shape)\n",
    "\n",
    "    # Bidirectional LSTM\n",
    "    x = layers.Bidirectional(layers.LSTM(64, return_sequences=True))(inputs)\n",
    "\n",
    "    # Attention Layer\n",
    "    attention = AttentionLayer()(x)\n",
    "\n",
    "    # Dense Layers\n",
    "    x = layers.Dense(64, activation='relu')(attention)\n",
    "    x = layers.Dropout(0.5)(x)\n",
    "    outputs = layers.Dense(num_classes, activation='softmax')(x)\n",
    "\n",
    "    model = models.Model(inputs=inputs, outputs=outputs)\n",
    "    model.compile(\n",
    "        optimizer='adam',\n",
    "        loss='categorical_crossentropy',\n",
    "        metrics=['accuracy']\n",
    "    )\n",
    "    return model\n",
    "\n"
   ]
  },
  {
   "cell_type": "code",
   "execution_count": 9,
   "id": "a255eed2",
   "metadata": {},
   "outputs": [
    {
     "name": "stdout",
     "output_type": "stream",
     "text": [
      "Model: \"model\"\n",
      "_________________________________________________________________\n",
      " Layer (type)                Output Shape              Param #   \n",
      "=================================================================\n",
      " input_1 (InputLayer)        [(None, 89, 1)]           0         \n",
      "                                                                 \n",
      " bidirectional (Bidirectiona  (None, 89, 128)          33792     \n",
      " l)                                                              \n",
      "                                                                 \n",
      " attention_layer (AttentionL  (None, 128)              217       \n",
      " ayer)                                                           \n",
      "                                                                 \n",
      " dense (Dense)               (None, 64)                8256      \n",
      "                                                                 \n",
      " dropout (Dropout)           (None, 64)                0         \n",
      "                                                                 \n",
      " dense_1 (Dense)             (None, 4)                 260       \n",
      "                                                                 \n",
      "=================================================================\n",
      "Total params: 42,525\n",
      "Trainable params: 42,525\n",
      "Non-trainable params: 0\n",
      "_________________________________________________________________\n"
     ]
    }
   ],
   "source": [
    "model = build_attentive_bilstm(input_shape=(X_train.shape[1], 1), num_classes=4)\n",
    "model.summary()"
   ]
  },
  {
   "cell_type": "code",
   "execution_count": 10,
   "id": "4f493b6c",
   "metadata": {},
   "outputs": [
    {
     "name": "stdout",
     "output_type": "stream",
     "text": [
      "Epoch 1/100\n",
      "1369/1369 [==============================] - 153s 109ms/step - loss: 0.3790 - accuracy: 0.8890 - val_loss: 0.2770 - val_accuracy: 0.9068\n",
      "Epoch 2/100\n",
      "1369/1369 [==============================] - 146s 106ms/step - loss: 0.2815 - accuracy: 0.9115 - val_loss: 0.2567 - val_accuracy: 0.9161\n",
      "Epoch 3/100\n",
      "1369/1369 [==============================] - 154s 113ms/step - loss: 0.2526 - accuracy: 0.9202 - val_loss: 0.2250 - val_accuracy: 0.9278\n",
      "Epoch 4/100\n",
      "1369/1369 [==============================] - 161s 118ms/step - loss: 0.2313 - accuracy: 0.9278 - val_loss: 0.2021 - val_accuracy: 0.9365\n",
      "Epoch 5/100\n",
      "1369/1369 [==============================] - 140s 102ms/step - loss: 0.2171 - accuracy: 0.9324 - val_loss: 0.1975 - val_accuracy: 0.9382\n",
      "Epoch 6/100\n",
      "1369/1369 [==============================] - 135s 99ms/step - loss: 0.2058 - accuracy: 0.9356 - val_loss: 0.1977 - val_accuracy: 0.9384\n",
      "Epoch 7/100\n",
      "1369/1369 [==============================] - 198s 145ms/step - loss: 0.1989 - accuracy: 0.9377 - val_loss: 0.1898 - val_accuracy: 0.9390\n",
      "Epoch 8/100\n",
      "1369/1369 [==============================] - 145s 106ms/step - loss: 0.1912 - accuracy: 0.9397 - val_loss: 0.1811 - val_accuracy: 0.9435\n",
      "Epoch 9/100\n",
      "1369/1369 [==============================] - 126s 92ms/step - loss: 0.1849 - accuracy: 0.9412 - val_loss: 0.1799 - val_accuracy: 0.9414\n",
      "Epoch 10/100\n",
      "1369/1369 [==============================] - 142s 104ms/step - loss: 0.1807 - accuracy: 0.9433 - val_loss: 0.1821 - val_accuracy: 0.9426\n",
      "Epoch 11/100\n",
      "1369/1369 [==============================] - 171s 125ms/step - loss: 0.1780 - accuracy: 0.9436 - val_loss: 0.1838 - val_accuracy: 0.9397\n",
      "Epoch 12/100\n",
      "1369/1369 [==============================] - 138s 101ms/step - loss: 0.1713 - accuracy: 0.9449 - val_loss: 0.1731 - val_accuracy: 0.9442\n",
      "Epoch 13/100\n",
      "1369/1369 [==============================] - 135s 99ms/step - loss: 0.1688 - accuracy: 0.9456 - val_loss: 0.1698 - val_accuracy: 0.9460\n",
      "Epoch 14/100\n",
      "1369/1369 [==============================] - 143s 104ms/step - loss: 0.1664 - accuracy: 0.9467 - val_loss: 0.1665 - val_accuracy: 0.9474\n",
      "Epoch 15/100\n",
      "1369/1369 [==============================] - 133s 97ms/step - loss: 0.1634 - accuracy: 0.9474 - val_loss: 0.1671 - val_accuracy: 0.9478\n",
      "Epoch 16/100\n",
      "1369/1369 [==============================] - 228s 167ms/step - loss: 0.1614 - accuracy: 0.9475 - val_loss: 0.1600 - val_accuracy: 0.9488\n",
      "Epoch 17/100\n",
      "1369/1369 [==============================] - 225s 164ms/step - loss: 0.1587 - accuracy: 0.9484 - val_loss: 0.1607 - val_accuracy: 0.9478\n",
      "Epoch 18/100\n",
      "1369/1369 [==============================] - 148s 108ms/step - loss: 0.1575 - accuracy: 0.9487 - val_loss: 0.1582 - val_accuracy: 0.9487\n",
      "Epoch 19/100\n",
      "1369/1369 [==============================] - 125s 92ms/step - loss: 0.1532 - accuracy: 0.9501 - val_loss: 0.1584 - val_accuracy: 0.9501\n",
      "Epoch 20/100\n",
      "1369/1369 [==============================] - 131s 96ms/step - loss: 0.1538 - accuracy: 0.9505 - val_loss: 0.1561 - val_accuracy: 0.9477\n",
      "Epoch 21/100\n",
      "1369/1369 [==============================] - 132s 96ms/step - loss: 0.1496 - accuracy: 0.9506 - val_loss: 0.1581 - val_accuracy: 0.9507\n",
      "Epoch 22/100\n",
      "1369/1369 [==============================] - 136s 99ms/step - loss: 0.1512 - accuracy: 0.9499 - val_loss: 0.1562 - val_accuracy: 0.9510\n",
      "Epoch 23/100\n",
      "1369/1369 [==============================] - 136s 99ms/step - loss: 0.1475 - accuracy: 0.9515 - val_loss: 0.1623 - val_accuracy: 0.9480\n",
      "Epoch 24/100\n",
      "1369/1369 [==============================] - 149s 109ms/step - loss: 0.1472 - accuracy: 0.9521 - val_loss: 0.1477 - val_accuracy: 0.9524\n",
      "Epoch 25/100\n",
      "1369/1369 [==============================] - 138s 101ms/step - loss: 0.1460 - accuracy: 0.9522 - val_loss: 0.1541 - val_accuracy: 0.9520\n",
      "Epoch 26/100\n",
      "1369/1369 [==============================] - 188s 137ms/step - loss: 0.1457 - accuracy: 0.9514 - val_loss: 0.1549 - val_accuracy: 0.9504\n",
      "Epoch 27/100\n",
      "1369/1369 [==============================] - 137s 100ms/step - loss: 0.1427 - accuracy: 0.9527 - val_loss: 0.1476 - val_accuracy: 0.9520\n",
      "Epoch 28/100\n",
      "1369/1369 [==============================] - 504s 369ms/step - loss: 0.1410 - accuracy: 0.9533 - val_loss: 0.1535 - val_accuracy: 0.9524\n",
      "Epoch 29/100\n",
      "1369/1369 [==============================] - 413s 302ms/step - loss: 0.1409 - accuracy: 0.9530 - val_loss: 0.1604 - val_accuracy: 0.9487\n",
      "Epoch 30/100\n",
      "1369/1369 [==============================] - 267s 195ms/step - loss: 0.1381 - accuracy: 0.9543 - val_loss: 0.1501 - val_accuracy: 0.9515\n",
      "Epoch 31/100\n",
      "1369/1369 [==============================] - 222s 162ms/step - loss: 0.1374 - accuracy: 0.9547 - val_loss: 0.1535 - val_accuracy: 0.9508\n",
      "Epoch 32/100\n",
      "1369/1369 [==============================] - 209s 153ms/step - loss: 0.1368 - accuracy: 0.9542 - val_loss: 0.1515 - val_accuracy: 0.9515\n",
      "Epoch 33/100\n",
      "1369/1369 [==============================] - 342s 250ms/step - loss: 0.1361 - accuracy: 0.9544 - val_loss: 0.1579 - val_accuracy: 0.9521\n",
      "Epoch 34/100\n",
      "1369/1369 [==============================] - 347s 253ms/step - loss: 0.1342 - accuracy: 0.9552 - val_loss: 0.1494 - val_accuracy: 0.9524\n",
      "Epoch 35/100\n",
      "1369/1369 [==============================] - 372s 271ms/step - loss: 0.1320 - accuracy: 0.9556 - val_loss: 0.1550 - val_accuracy: 0.9513\n",
      "Epoch 36/100\n",
      "1369/1369 [==============================] - 228s 166ms/step - loss: 0.1344 - accuracy: 0.9551 - val_loss: 0.1579 - val_accuracy: 0.9506\n",
      "Epoch 37/100\n",
      "1369/1369 [==============================] - 233s 170ms/step - loss: 0.1335 - accuracy: 0.9552 - val_loss: 0.1541 - val_accuracy: 0.9515\n"
     ]
    }
   ],
   "source": [
    "# Callbacks\n",
    "checkpoint = callbacks.ModelCheckpoint(\n",
    "    'best_model.h5', \n",
    "    monitor='val_accuracy', \n",
    "    save_best_only=True\n",
    ")\n",
    "early_stop = callbacks.EarlyStopping(patience=10, restore_best_weights=True)\n",
    "\n",
    "# Training\n",
    "history = model.fit(\n",
    "    X_train, y_train_cat,\n",
    "    validation_data=(X_test, y_test_cat),\n",
    "    epochs=100,\n",
    "    batch_size=64,\n",
    "    callbacks=[checkpoint, early_stop]\n",
    ")\n"
   ]
  },
  {
   "cell_type": "code",
   "execution_count": 11,
   "id": "98c3385a",
   "metadata": {},
   "outputs": [
    {
     "name": "stdout",
     "output_type": "stream",
     "text": [
      "685/685 [==============================] - 42s 57ms/step - loss: 0.1476 - accuracy: 0.9520\n",
      "Test Accuracy: 0.9520\n"
     ]
    },
    {
     "data": {
      "text/plain": [
       "<Figure size 1200x400 with 0 Axes>"
      ]
     },
     "execution_count": 11,
     "metadata": {},
     "output_type": "execute_result"
    },
    {
     "data": {
      "text/plain": [
       "<Figure size 1200x400 with 0 Axes>"
      ]
     },
     "metadata": {},
     "output_type": "display_data"
    }
   ],
   "source": [
    "# Evaluasi\n",
    "loss, acc = model.evaluate(X_test, y_test_cat)\n",
    "print(f\"Test Accuracy: {acc:.4f}\")\n",
    "\n",
    "plt.figure(figsize=(12, 4))\n"
   ]
  },
  {
   "cell_type": "code",
   "execution_count": 15,
   "id": "07c18b26",
   "metadata": {},
   "outputs": [
    {
     "data": {
      "text/plain": [
       "<matplotlib.legend.Legend at 0x14891005f10>"
      ]
     },
     "execution_count": 15,
     "metadata": {},
     "output_type": "execute_result"
    },
    {
     "data": {
      "image/png": "[encoded data removed]",
      "text/plain": [
       "<Figure size 640x480 with 1 Axes>"
      ]
     },
     "metadata": {},
     "output_type": "display_data"
    }
   ],
   "source": [
    "plt.subplot(1,2,1)\n",
    "plt.plot(history.history['accuracy'], label='Training Accuracy')\n",
    "plt.plot(history.history['val_accuracy'], label='Validation Accuracy')\n",
    "plt.xlabel('Epoch')\n",
    "plt.ylabel('Accuracy')\n",
    "plt.legend()"
   ]
  },
  {
   "cell_type": "code",
   "execution_count": 13,
   "id": "057bb1f1",
   "metadata": {},
   "outputs": [
    {
     "data": {
      "text/plain": [
       "<matplotlib.legend.Legend at 0x1489084e2e0>"
      ]
     },
     "execution_count": 13,
     "metadata": {},
     "output_type": "execute_result"
    },
    {
     "data": {
      "image/png": "[encoded data removed]",
      "text/plain": [
       "<Figure size 640x480 with 1 Axes>"
      ]
     },
     "metadata": {},
     "output_type": "display_data"
    }
   ],
   "source": [
    "plt.subplot(1, 2, 2)\n",
    "plt.plot(history.history['loss'], label='Train Loss')\n",
    "plt.plot(history.history['val_loss'], label='Validation Loss')\n",
    "plt.title('Model Loss')\n",
    "plt.ylabel('Loss')\n",
    "plt.xlabel('Epoch')\n",
    "plt.legend()"
   ]
  },
  {
   "cell_type": "code",
   "execution_count": 16,
   "id": "a8edfefd",
   "metadata": {},
   "outputs": [
    {
     "data": {
      "text/plain": [
       "<Figure size 640x480 with 0 Axes>"
      ]
     },
     "metadata": {},
     "output_type": "display_data"
    }
   ],
   "source": [
    "plt.tight_layout()\n",
    "plt.show()"
   ]
  },
  {
   "cell_type": "code",
   "execution_count": 17,
   "id": "3a2d178d",
   "metadata": {},
   "outputs": [
    {
     "name": "stdout",
     "output_type": "stream",
     "text": [
      "Model disimpan sebagai 'attentive_bilstm_arrhythmia.h5'\n"
     ]
    }
   ],
   "source": [
    "# Simpan model\n",
    "model.save('attentive_bilstm_arrhythmia.h5')\n",
    "print(\"Model disimpan sebagai 'attentive_bilstm_arrhythmia.h5'\")"
   ]
  }
 ],
 "metadata": {
  "kernelspec": {
   "display_name": "tugasAkhir",
   "language": "python",
   "name": "python3"
  },
  "language_info": {
   "codemirror_mode": {
    "name": "ipython",
    "version": 3
   },
   "file_extension": ".py",
   "mimetype": "text/x-python",
   "name": "python",
   "nbconvert_exporter": "python",
   "pygments_lexer": "ipython3",
   "version": "3.8.18"
  }
 },
 "nbformat": 4,
 "nbformat_minor": 5
}
