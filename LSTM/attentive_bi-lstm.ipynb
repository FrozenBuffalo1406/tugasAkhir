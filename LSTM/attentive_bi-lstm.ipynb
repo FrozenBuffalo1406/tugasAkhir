{
 "cells": [
  {
   "cell_type": "code",
   "execution_count": null,
   "id": "703a3592",
   "metadata": {},
   "outputs": [],
   "source": [
    "import tensorflow as tf\n",
    "import numpy as np\n",
    "import matplotlib.pyplot as plt\n",
    "import pandas as pd\n",
    "import sklearn\n",
    "from keras.layers import Layer, Bidirectional, LSTM, Dense, GlobalAveragePooling1D, Dropout\n",
    "from keras import Input, Model \n",
    "from keras.utils import to_categorical, plot_model"
   ]
  },
  {
   "cell_type": "code",
   "execution_count": 25,
   "id": "109b78f2",
   "metadata": {},
   "outputs": [],
   "source": [
    "X_train = np.load(\"dataset/X_train.npy\")\n",
    "y_train = np.load(\"dataset/y_train.npy\")\n",
    "X_test = np.load(\"dataset/X_test.npy\")\n",
    "y_test = np.load(\"dataset/y_test.npy\")"
   ]
  },
  {
   "cell_type": "code",
   "execution_count": 26,
   "id": "1929c0e7",
   "metadata": {},
   "outputs": [],
   "source": [
    "y_train_cat = to_categorical(y_train)\n",
    "y_test_cat = to_categorical(y_test)"
   ]
  },
  {
   "cell_type": "code",
   "execution_count": null,
   "id": "6cb1e4d5",
   "metadata": {},
   "outputs": [],
   "source": [
    "class DotProductAttention(Layer):\n",
    "    def __init__(self):\n",
    "        super(DotProductAttention, self).__init__()\n",
    "\n",
    "    def call(self, inputs):\n",
    "        query = key = value = inputs\n",
    "        d_k = tf.cast(tf.shape(key)[-1], tf.float32)\n",
    "        scores = tf.matmul(query, key, transpose_b=True) / tf.math.sqrt(d_k)\n",
    "        weights = tf.nn.softmax(scores, axis=-1)\n",
    "        return tf.matmul(weights, value)"
   ]
  },
  {
   "cell_type": "code",
   "execution_count": 28,
   "id": "87742ab7",
   "metadata": {},
   "outputs": [],
   "source": [
    "input_layer = Input(shape=(X_train.shape[1], 1))  # contoh: (3000, 1)\n",
    "x = Bidirectional(LSTM(64, return_sequences=True))(input_layer)\n",
    "x = DotProductAttention()(x)\n",
    "x = GlobalAveragePooling1D()(x)\n",
    "x = Dropout(0.3)(x)\n",
    "x = Dense(32, activation='relu')(x)\n",
    "output_layer = Dense(len(np.unique(y_train)), activation='softmax')(x)  # auto jumlah kelas\n",
    "\n",
    "model = Model(inputs=input_layer, outputs=output_layer)"
   ]
  },
  {
   "cell_type": "code",
   "execution_count": 29,
   "id": "4476e867",
   "metadata": {},
   "outputs": [],
   "source": [
    "model.compile(\n",
    "    optimizer='adam',\n",
    "    loss='sparse_categorical_crossentropy',\n",
    "    metrics=['accuracy']\n",
    ")"
   ]
  },
  {
   "cell_type": "code",
   "execution_count": 30,
   "id": "55d6d1df",
   "metadata": {},
   "outputs": [
    {
     "name": "stdout",
     "output_type": "stream",
     "text": [
      "Epoch 1/30\n",
      "1/1 [==============================] - 4s 4s/step - loss: 0.7188 - accuracy: 0.5000 - val_loss: 0.6631 - val_accuracy: 1.0000\n",
      "Epoch 2/30\n",
      "1/1 [==============================] - 0s 139ms/step - loss: 0.6690 - accuracy: 1.0000 - val_loss: 0.6294 - val_accuracy: 1.0000\n",
      "Epoch 3/30\n",
      "1/1 [==============================] - 0s 172ms/step - loss: 0.6371 - accuracy: 1.0000 - val_loss: 0.5974 - val_accuracy: 1.0000\n",
      "Epoch 4/30\n",
      "1/1 [==============================] - 0s 162ms/step - loss: 0.6037 - accuracy: 1.0000 - val_loss: 0.5669 - val_accuracy: 1.0000\n",
      "Epoch 5/30\n",
      "1/1 [==============================] - 0s 144ms/step - loss: 0.5878 - accuracy: 1.0000 - val_loss: 0.5371 - val_accuracy: 1.0000\n",
      "Epoch 6/30\n",
      "1/1 [==============================] - 0s 145ms/step - loss: 0.5410 - accuracy: 1.0000 - val_loss: 0.5065 - val_accuracy: 1.0000\n",
      "Epoch 7/30\n",
      "1/1 [==============================] - 0s 146ms/step - loss: 0.5137 - accuracy: 1.0000 - val_loss: 0.4745 - val_accuracy: 1.0000\n",
      "Epoch 8/30\n",
      "1/1 [==============================] - 0s 156ms/step - loss: 0.4683 - accuracy: 1.0000 - val_loss: 0.4406 - val_accuracy: 1.0000\n",
      "Epoch 9/30\n",
      "1/1 [==============================] - 0s 159ms/step - loss: 0.4230 - accuracy: 1.0000 - val_loss: 0.4038 - val_accuracy: 1.0000\n",
      "Epoch 10/30\n",
      "1/1 [==============================] - 0s 142ms/step - loss: 0.4083 - accuracy: 1.0000 - val_loss: 0.3640 - val_accuracy: 1.0000\n",
      "Epoch 11/30\n",
      "1/1 [==============================] - 0s 144ms/step - loss: 0.3644 - accuracy: 1.0000 - val_loss: 0.3211 - val_accuracy: 1.0000\n",
      "Epoch 12/30\n",
      "1/1 [==============================] - 0s 158ms/step - loss: 0.3173 - accuracy: 1.0000 - val_loss: 0.2746 - val_accuracy: 1.0000\n",
      "Epoch 13/30\n",
      "1/1 [==============================] - 0s 151ms/step - loss: 0.2753 - accuracy: 1.0000 - val_loss: 0.2251 - val_accuracy: 1.0000\n",
      "Epoch 14/30\n",
      "1/1 [==============================] - 0s 136ms/step - loss: 0.2387 - accuracy: 1.0000 - val_loss: 0.1738 - val_accuracy: 1.0000\n",
      "Epoch 15/30\n",
      "1/1 [==============================] - 0s 146ms/step - loss: 0.1896 - accuracy: 1.0000 - val_loss: 0.1239 - val_accuracy: 1.0000\n",
      "Epoch 16/30\n",
      "1/1 [==============================] - 0s 162ms/step - loss: 0.1296 - accuracy: 1.0000 - val_loss: 0.0788 - val_accuracy: 1.0000\n",
      "Epoch 17/30\n",
      "1/1 [==============================] - 0s 166ms/step - loss: 0.0883 - accuracy: 1.0000 - val_loss: 0.0437 - val_accuracy: 1.0000\n",
      "Epoch 18/30\n",
      "1/1 [==============================] - 0s 151ms/step - loss: 0.0587 - accuracy: 1.0000 - val_loss: 0.0206 - val_accuracy: 1.0000\n",
      "Epoch 19/30\n",
      "1/1 [==============================] - 0s 156ms/step - loss: 0.0264 - accuracy: 1.0000 - val_loss: 0.0093 - val_accuracy: 1.0000\n",
      "Epoch 20/30\n",
      "1/1 [==============================] - 0s 152ms/step - loss: 0.0165 - accuracy: 1.0000 - val_loss: 0.0047 - val_accuracy: 1.0000\n",
      "Epoch 21/30\n",
      "1/1 [==============================] - 0s 152ms/step - loss: 0.0129 - accuracy: 1.0000 - val_loss: 0.0025 - val_accuracy: 1.0000\n",
      "Epoch 22/30\n",
      "1/1 [==============================] - 0s 146ms/step - loss: 0.0067 - accuracy: 1.0000 - val_loss: 0.0014 - val_accuracy: 1.0000\n",
      "Epoch 23/30\n",
      "1/1 [==============================] - 0s 150ms/step - loss: 0.0073 - accuracy: 1.0000 - val_loss: 8.4036e-04 - val_accuracy: 1.0000\n",
      "Epoch 24/30\n",
      "1/1 [==============================] - 0s 148ms/step - loss: 0.0059 - accuracy: 1.0000 - val_loss: 5.0154e-04 - val_accuracy: 1.0000\n",
      "Epoch 25/30\n",
      "1/1 [==============================] - 0s 148ms/step - loss: 0.0021 - accuracy: 1.0000 - val_loss: 3.0751e-04 - val_accuracy: 1.0000\n",
      "Epoch 26/30\n",
      "1/1 [==============================] - 0s 146ms/step - loss: 0.0033 - accuracy: 1.0000 - val_loss: 1.9733e-04 - val_accuracy: 1.0000\n",
      "Epoch 27/30\n",
      "1/1 [==============================] - 0s 146ms/step - loss: 0.0027 - accuracy: 1.0000 - val_loss: 1.3315e-04 - val_accuracy: 1.0000\n",
      "Epoch 28/30\n",
      "1/1 [==============================] - 0s 147ms/step - loss: 0.0020 - accuracy: 1.0000 - val_loss: 9.4051e-05 - val_accuracy: 1.0000\n",
      "Epoch 29/30\n",
      "1/1 [==============================] - 0s 146ms/step - loss: 0.0035 - accuracy: 1.0000 - val_loss: 6.9139e-05 - val_accuracy: 1.0000\n",
      "Epoch 30/30\n",
      "1/1 [==============================] - 0s 144ms/step - loss: 0.0023 - accuracy: 1.0000 - val_loss: 5.2570e-05 - val_accuracy: 1.0000\n"
     ]
    }
   ],
   "source": [
    "history = model.fit(\n",
    "    X_train, y_train,\n",
    "    validation_data=(X_test, y_test),\n",
    "    epochs=30,\n",
    "    batch_size=64,\n",
    "    verbose=1\n",
    ")"
   ]
  },
  {
   "cell_type": "code",
   "execution_count": 32,
   "id": "3dacb6fc",
   "metadata": {},
   "outputs": [
    {
     "name": "stdout",
     "output_type": "stream",
     "text": [
      "\n",
      "🎯 Test Accuracy: 1.0000\n"
     ]
    }
   ],
   "source": [
    "loss, acc = model.evaluate(X_test, y_test, verbose=0)\n",
    "print(f\"\\n🎯 Test Accuracy: {acc:.4f}\")"
   ]
  },
  {
   "cell_type": "code",
   "execution_count": 36,
   "id": "ae3a4bb0",
   "metadata": {},
   "outputs": [
    {
     "name": "stdout",
     "output_type": "stream",
     "text": [
      "You must install pydot (`pip install pydot`) and install graphviz (see instructions at https://graphviz.gitlab.io/download/) for plot_model to work.\n"
     ]
    }
   ],
   "source": [
    "plot_model(model, to_file='model_bilstm_attention.png', show_shapes=True)"
   ]
  },
  {
   "cell_type": "code",
   "execution_count": null,
   "id": "e912bf96",
   "metadata": {},
   "outputs": [],
   "source": [
    "model.save(\"bilstm_attention_ecg.h5\")"
   ]
  }
 ],
 "metadata": {
  "kernelspec": {
   "display_name": "tugasAkhir",
   "language": "python",
   "name": "python3"
  },
  "language_info": {
   "codemirror_mode": {
    "name": "ipython",
    "version": 3
   },
   "file_extension": ".py",
   "mimetype": "text/x-python",
   "name": "python",
   "nbconvert_exporter": "python",
   "pygments_lexer": "ipython3",
   "version": "3.8.18"
  }
 },
 "nbformat": 4,
 "nbformat_minor": 5
}
